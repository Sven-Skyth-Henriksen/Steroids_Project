{
 "cells": [
  {
   "cell_type": "code",
   "execution_count": 7,
   "metadata": {},
   "outputs": [],
   "source": [
    "import pandas as pd\n",
    "import requests\n",
    "from bs4 import BeautifulSoup\n",
    "from dateutil.parser import parse\n",
    "import matplotlib.pyplot as plt\n",
    "import numpy as np"
   ]
  },
  {
   "cell_type": "code",
   "execution_count": 15,
   "metadata": {},
   "outputs": [
    {
     "ename": "SyntaxError",
     "evalue": "invalid syntax (<ipython-input-15-f79b75bab6ea>, line 10)",
     "output_type": "error",
     "traceback": [
      "\u001b[0;36m  File \u001b[0;32m\"<ipython-input-15-f79b75bab6ea>\"\u001b[0;36m, line \u001b[0;32m10\u001b[0m\n\u001b[0;31m    'Action time': ['8-12 houres',np.nan],\u001b[0m\n\u001b[0m    ^\u001b[0m\n\u001b[0;31mSyntaxError\u001b[0m\u001b[0;31m:\u001b[0m invalid syntax\n"
     ]
    }
   ],
   "source": [
    "#creating the DataFrame\n",
    "\n",
    "data = {'Name': ['Oxandrolone','Methandienone',],\n",
    "        'Trade names': ['Anavar','Metan, Dianabol, Bionabol, Napusim'],\n",
    "        'Category': ['Anabolic Steroid',' Anabolic Steroid'],\n",
    "        'Type':['oral','oral'],\n",
    "        'Discovered': ['1964','1952'],\n",
    "        'Androgenic / Anabolic ratio compared with the testosterone':['45/320','40-60 / 90-120'],\n",
    "        'Half-Life': [np.nan,'4 hours']\n",
    "        'Action time': ['8-12 houres',np.nan],\n",
    "        'Detection time':['3 weeks','5 month'],\n",
    "        'Derivative of':['DHT','testosterone'],\n",
    "        'Aromatase': ['no','yes'],\n",
    "       'Convertion into DHT':['no','no'],\n",
    "       'Water retention': ['no','yes'],\n",
    "       'Toxic':['weak','strong'],\n",
    "       'Optimal dosage':['20-40mg daily','30-60mg daily'],\n",
    "       'Common side effects':['hair loss','gynecomastia, liver illness']\n",
    "       }\n",
    "df = pd.DataFrame(data, columns = ['Name','Trade names','Category','Type','Discovered','Androgenic / Anabolic ratio compared with the testosterone', \n",
    "                                   'Action time','Half-Life','Detection time','Derivative of','Aromatase','Convertion into DHT',\n",
    "                                  'Water retention','Toxic','Optimal dosage','Common side effects'])\n",
    "\n",
    "display(df)"
   ]
  },
  {
   "cell_type": "code",
   "execution_count": null,
   "metadata": {},
   "outputs": [],
   "source": []
  }
 ],
 "metadata": {
  "kernelspec": {
   "display_name": "Python 3",
   "language": "python",
   "name": "python3"
  },
  "language_info": {
   "codemirror_mode": {
    "name": "ipython",
    "version": 3
   },
   "file_extension": ".py",
   "mimetype": "text/x-python",
   "name": "python",
   "nbconvert_exporter": "python",
   "pygments_lexer": "ipython3",
   "version": "3.8.5"
  }
 },
 "nbformat": 4,
 "nbformat_minor": 4
}
